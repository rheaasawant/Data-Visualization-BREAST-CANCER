{
  "nbformat": 4,
  "nbformat_minor": 0,
  "metadata": {
    "colab": {
      "name": "AIAssignment.ipynb",
      "provenance": [],
      "collapsed_sections": [],
      "toc_visible": true
    },
    "kernelspec": {
      "name": "python3",
      "display_name": "Python 3"
    }
  },
  "cells": [
    {
      "cell_type": "markdown",
      "metadata": {
        "id": "sItri61z-xok"
      },
      "source": [
        "# **ARTIFICIAL INTELLIGENCE PROJECT**\n",
        "\n",
        "---\n",
        "\n",
        "\n",
        "by Rhea Sawant \n"
      ]
    },
    {
      "cell_type": "markdown",
      "metadata": {
        "id": "3CMVawky_wVV"
      },
      "source": [
        "# **1. Datatset chosen is about diagnosis of breast cancer among females over a wide range of ages.**\n"
      ]
    },
    {
      "cell_type": "code",
      "metadata": {
        "id": "FtZOa7zHhQ_d",
        "colab": {
          "base_uri": "https://localhost:8080/",
          "height": 35
        },
        "outputId": "46759b21-513a-482d-fd74-fcfb9d11e25f"
      },
      "source": [
        "# Mounted Google drive to be able to access the datatset uploaded in drive\n",
        "from google.colab import drive\n",
        "drive.mount('/content/drive')"
      ],
      "execution_count": null,
      "outputs": [
        {
          "output_type": "stream",
          "text": [
            "Drive already mounted at /content/drive; to attempt to forcibly remount, call drive.mount(\"/content/drive\", force_remount=True).\n"
          ],
          "name": "stdout"
        }
      ]
    },
    {
      "cell_type": "markdown",
      "metadata": {
        "id": "nY143_s7EK-e"
      },
      "source": [
        "\n",
        "---\n",
        "\n"
      ]
    },
    {
      "cell_type": "markdown",
      "metadata": {
        "id": "3_UPNxMngIxA"
      },
      "source": [
        "# **2. Read the data file and check the datatype of all the variables.**"
      ]
    },
    {
      "cell_type": "markdown",
      "metadata": {
        "id": "gGqXl5tfEzyo"
      },
      "source": [
        "\n",
        "---\n",
        "\n",
        "***Reading the data in the dataset.***"
      ]
    },
    {
      "cell_type": "code",
      "metadata": {
        "id": "uIuBIa1Ba3FY",
        "colab": {
          "base_uri": "https://localhost:8080/",
          "height": 399
        },
        "outputId": "490b18b5-2341-467c-be2d-8d1cce0284e6"
      },
      "source": [
        "# Loaded the Pandas libraries with alias 'pd' \n",
        "import pandas as pd\n",
        "# pd.read_csv is used to read data from file 'filename.csv' \n",
        "rawdata=pd.read_csv('/content/drive/My Drive/Colab Notebooks/AI College/breast_cancer_females _data.csv')\n",
        "rawdata"
      ],
      "execution_count": null,
      "outputs": [
        {
          "output_type": "execute_result",
          "data": {
            "text/html": [
              "<div>\n",
              "<style scoped>\n",
              "    .dataframe tbody tr th:only-of-type {\n",
              "        vertical-align: middle;\n",
              "    }\n",
              "\n",
              "    .dataframe tbody tr th {\n",
              "        vertical-align: top;\n",
              "    }\n",
              "\n",
              "    .dataframe thead th {\n",
              "        text-align: right;\n",
              "    }\n",
              "</style>\n",
              "<table border=\"1\" class=\"dataframe\">\n",
              "  <thead>\n",
              "    <tr style=\"text-align: right;\">\n",
              "      <th></th>\n",
              "      <th>Gender</th>\n",
              "      <th>mean_radius</th>\n",
              "      <th>mean_texture</th>\n",
              "      <th>mean_perimeter</th>\n",
              "      <th>mean_area</th>\n",
              "      <th>mean_smoothness</th>\n",
              "      <th>diagnosis</th>\n",
              "      <th>age</th>\n",
              "    </tr>\n",
              "  </thead>\n",
              "  <tbody>\n",
              "    <tr>\n",
              "      <th>0</th>\n",
              "      <td>F</td>\n",
              "      <td>17.99</td>\n",
              "      <td>10.38</td>\n",
              "      <td>122.80</td>\n",
              "      <td>1001.0</td>\n",
              "      <td>0.11840</td>\n",
              "      <td>0</td>\n",
              "      <td>30</td>\n",
              "    </tr>\n",
              "    <tr>\n",
              "      <th>1</th>\n",
              "      <td>F</td>\n",
              "      <td>20.57</td>\n",
              "      <td>17.77</td>\n",
              "      <td>132.90</td>\n",
              "      <td>1326.0</td>\n",
              "      <td>0.08474</td>\n",
              "      <td>0</td>\n",
              "      <td>31</td>\n",
              "    </tr>\n",
              "    <tr>\n",
              "      <th>2</th>\n",
              "      <td>F</td>\n",
              "      <td>19.69</td>\n",
              "      <td>21.25</td>\n",
              "      <td>130.00</td>\n",
              "      <td>1203.0</td>\n",
              "      <td>0.10960</td>\n",
              "      <td>0</td>\n",
              "      <td>32</td>\n",
              "    </tr>\n",
              "    <tr>\n",
              "      <th>3</th>\n",
              "      <td>F</td>\n",
              "      <td>11.42</td>\n",
              "      <td>20.38</td>\n",
              "      <td>77.58</td>\n",
              "      <td>386.1</td>\n",
              "      <td>0.14250</td>\n",
              "      <td>0</td>\n",
              "      <td>33</td>\n",
              "    </tr>\n",
              "    <tr>\n",
              "      <th>4</th>\n",
              "      <td>F</td>\n",
              "      <td>20.29</td>\n",
              "      <td>14.34</td>\n",
              "      <td>135.10</td>\n",
              "      <td>1297.0</td>\n",
              "      <td>0.10030</td>\n",
              "      <td>0</td>\n",
              "      <td>34</td>\n",
              "    </tr>\n",
              "    <tr>\n",
              "      <th>...</th>\n",
              "      <td>...</td>\n",
              "      <td>...</td>\n",
              "      <td>...</td>\n",
              "      <td>...</td>\n",
              "      <td>...</td>\n",
              "      <td>...</td>\n",
              "      <td>...</td>\n",
              "      <td>...</td>\n",
              "    </tr>\n",
              "    <tr>\n",
              "      <th>594</th>\n",
              "      <td>F</td>\n",
              "      <td>13.27</td>\n",
              "      <td>14.76</td>\n",
              "      <td>84.74</td>\n",
              "      <td>551.7</td>\n",
              "      <td>0.07355</td>\n",
              "      <td>1</td>\n",
              "      <td>53</td>\n",
              "    </tr>\n",
              "    <tr>\n",
              "      <th>595</th>\n",
              "      <td>F</td>\n",
              "      <td>13.45</td>\n",
              "      <td>18.30</td>\n",
              "      <td>86.60</td>\n",
              "      <td>555.1</td>\n",
              "      <td>0.10220</td>\n",
              "      <td>1</td>\n",
              "      <td>54</td>\n",
              "    </tr>\n",
              "    <tr>\n",
              "      <th>596</th>\n",
              "      <td>F</td>\n",
              "      <td>15.06</td>\n",
              "      <td>19.83</td>\n",
              "      <td>100.30</td>\n",
              "      <td>705.6</td>\n",
              "      <td>0.10390</td>\n",
              "      <td>0</td>\n",
              "      <td>35</td>\n",
              "    </tr>\n",
              "    <tr>\n",
              "      <th>597</th>\n",
              "      <td>F</td>\n",
              "      <td>20.26</td>\n",
              "      <td>23.03</td>\n",
              "      <td>132.40</td>\n",
              "      <td>1264.0</td>\n",
              "      <td>0.09078</td>\n",
              "      <td>0</td>\n",
              "      <td>35</td>\n",
              "    </tr>\n",
              "    <tr>\n",
              "      <th>598</th>\n",
              "      <td>NaN</td>\n",
              "      <td>10.96</td>\n",
              "      <td>17.62</td>\n",
              "      <td>70.79</td>\n",
              "      <td>365.6</td>\n",
              "      <td>0.09687</td>\n",
              "      <td>1</td>\n",
              "      <td>51</td>\n",
              "    </tr>\n",
              "  </tbody>\n",
              "</table>\n",
              "<p>599 rows × 8 columns</p>\n",
              "</div>"
            ],
            "text/plain": [
              "    Gender  mean_radius  mean_texture  ...  mean_smoothness  diagnosis  age\n",
              "0        F        17.99         10.38  ...          0.11840          0   30\n",
              "1        F        20.57         17.77  ...          0.08474          0   31\n",
              "2        F        19.69         21.25  ...          0.10960          0   32\n",
              "3        F        11.42         20.38  ...          0.14250          0   33\n",
              "4        F        20.29         14.34  ...          0.10030          0   34\n",
              "..     ...          ...           ...  ...              ...        ...  ...\n",
              "594      F        13.27         14.76  ...          0.07355          1   53\n",
              "595      F        13.45         18.30  ...          0.10220          1   54\n",
              "596      F        15.06         19.83  ...          0.10390          0   35\n",
              "597      F        20.26         23.03  ...          0.09078          0   35\n",
              "598    NaN        10.96         17.62  ...          0.09687          1   51\n",
              "\n",
              "[599 rows x 8 columns]"
            ]
          },
          "metadata": {
            "tags": []
          },
          "execution_count": 3
        }
      ]
    },
    {
      "cell_type": "code",
      "metadata": {
        "id": "W6SbM8tLgcRP",
        "colab": {
          "base_uri": "https://localhost:8080/",
          "height": 35
        },
        "outputId": "164971e5-02db-4017-a210-23dc6dc16734"
      },
      "source": [
        "type(rawdata)"
      ],
      "execution_count": null,
      "outputs": [
        {
          "output_type": "execute_result",
          "data": {
            "text/plain": [
              "pandas.core.frame.DataFrame"
            ]
          },
          "metadata": {
            "tags": []
          },
          "execution_count": 4
        }
      ]
    },
    {
      "cell_type": "markdown",
      "metadata": {
        "id": "q1feoq99E9s4"
      },
      "source": [
        "***To read the datatypes of all the variables.***"
      ]
    },
    {
      "cell_type": "code",
      "metadata": {
        "id": "9c_L9FDohSoS",
        "colab": {
          "base_uri": "https://localhost:8080/",
          "height": 177
        },
        "outputId": "ac8c8157-c2cf-4df6-c9aa-903564d1cd18"
      },
      "source": [
        "# dtypes() returns a Series with the data type of each column, columns with mixed datatype are given 'object' data type\n",
        "rawdata.dtypes"
      ],
      "execution_count": null,
      "outputs": [
        {
          "output_type": "execute_result",
          "data": {
            "text/plain": [
              "Gender              object\n",
              "mean_radius        float64\n",
              "mean_texture       float64\n",
              "mean_perimeter     float64\n",
              "mean_area          float64\n",
              "mean_smoothness    float64\n",
              "diagnosis            int64\n",
              "age                  int64\n",
              "dtype: object"
            ]
          },
          "metadata": {
            "tags": []
          },
          "execution_count": 5
        }
      ]
    },
    {
      "cell_type": "markdown",
      "metadata": {
        "id": "YP5Y9dwsfj0U"
      },
      "source": [
        "# **3. Convert one or two variable's datatype from float to integer or vice versa.**\n",
        "\n",
        "\n",
        "\n",
        "---\n",
        "\n",
        "\n",
        "***The following code will change the datatype of the column 'mean_radius' from float to integer and  column 'diagnosis' from integer to float.***"
      ]
    },
    {
      "cell_type": "code",
      "metadata": {
        "id": "omS-mBNdenmD",
        "colab": {
          "base_uri": "https://localhost:8080/",
          "height": 399
        },
        "outputId": "ca2a81fe-e02f-4ca9-ae3f-ae9613a6fa65"
      },
      "source": [
        "rawdata[\"mean_radius\"]=rawdata['mean_radius'].astype('int')\n",
        "rawdata[\"diagnosis\"]=rawdata['diagnosis'].astype('float')\n",
        "rawdata"
      ],
      "execution_count": null,
      "outputs": [
        {
          "output_type": "execute_result",
          "data": {
            "text/html": [
              "<div>\n",
              "<style scoped>\n",
              "    .dataframe tbody tr th:only-of-type {\n",
              "        vertical-align: middle;\n",
              "    }\n",
              "\n",
              "    .dataframe tbody tr th {\n",
              "        vertical-align: top;\n",
              "    }\n",
              "\n",
              "    .dataframe thead th {\n",
              "        text-align: right;\n",
              "    }\n",
              "</style>\n",
              "<table border=\"1\" class=\"dataframe\">\n",
              "  <thead>\n",
              "    <tr style=\"text-align: right;\">\n",
              "      <th></th>\n",
              "      <th>Gender</th>\n",
              "      <th>mean_radius</th>\n",
              "      <th>mean_texture</th>\n",
              "      <th>mean_perimeter</th>\n",
              "      <th>mean_area</th>\n",
              "      <th>mean_smoothness</th>\n",
              "      <th>diagnosis</th>\n",
              "      <th>age</th>\n",
              "    </tr>\n",
              "  </thead>\n",
              "  <tbody>\n",
              "    <tr>\n",
              "      <th>0</th>\n",
              "      <td>F</td>\n",
              "      <td>17</td>\n",
              "      <td>10.38</td>\n",
              "      <td>122.80</td>\n",
              "      <td>1001.0</td>\n",
              "      <td>0.11840</td>\n",
              "      <td>0.0</td>\n",
              "      <td>30</td>\n",
              "    </tr>\n",
              "    <tr>\n",
              "      <th>1</th>\n",
              "      <td>F</td>\n",
              "      <td>20</td>\n",
              "      <td>17.77</td>\n",
              "      <td>132.90</td>\n",
              "      <td>1326.0</td>\n",
              "      <td>0.08474</td>\n",
              "      <td>0.0</td>\n",
              "      <td>31</td>\n",
              "    </tr>\n",
              "    <tr>\n",
              "      <th>2</th>\n",
              "      <td>F</td>\n",
              "      <td>19</td>\n",
              "      <td>21.25</td>\n",
              "      <td>130.00</td>\n",
              "      <td>1203.0</td>\n",
              "      <td>0.10960</td>\n",
              "      <td>0.0</td>\n",
              "      <td>32</td>\n",
              "    </tr>\n",
              "    <tr>\n",
              "      <th>3</th>\n",
              "      <td>F</td>\n",
              "      <td>11</td>\n",
              "      <td>20.38</td>\n",
              "      <td>77.58</td>\n",
              "      <td>386.1</td>\n",
              "      <td>0.14250</td>\n",
              "      <td>0.0</td>\n",
              "      <td>33</td>\n",
              "    </tr>\n",
              "    <tr>\n",
              "      <th>4</th>\n",
              "      <td>F</td>\n",
              "      <td>20</td>\n",
              "      <td>14.34</td>\n",
              "      <td>135.10</td>\n",
              "      <td>1297.0</td>\n",
              "      <td>0.10030</td>\n",
              "      <td>0.0</td>\n",
              "      <td>34</td>\n",
              "    </tr>\n",
              "    <tr>\n",
              "      <th>...</th>\n",
              "      <td>...</td>\n",
              "      <td>...</td>\n",
              "      <td>...</td>\n",
              "      <td>...</td>\n",
              "      <td>...</td>\n",
              "      <td>...</td>\n",
              "      <td>...</td>\n",
              "      <td>...</td>\n",
              "    </tr>\n",
              "    <tr>\n",
              "      <th>594</th>\n",
              "      <td>F</td>\n",
              "      <td>13</td>\n",
              "      <td>14.76</td>\n",
              "      <td>84.74</td>\n",
              "      <td>551.7</td>\n",
              "      <td>0.07355</td>\n",
              "      <td>1.0</td>\n",
              "      <td>53</td>\n",
              "    </tr>\n",
              "    <tr>\n",
              "      <th>595</th>\n",
              "      <td>F</td>\n",
              "      <td>13</td>\n",
              "      <td>18.30</td>\n",
              "      <td>86.60</td>\n",
              "      <td>555.1</td>\n",
              "      <td>0.10220</td>\n",
              "      <td>1.0</td>\n",
              "      <td>54</td>\n",
              "    </tr>\n",
              "    <tr>\n",
              "      <th>596</th>\n",
              "      <td>F</td>\n",
              "      <td>15</td>\n",
              "      <td>19.83</td>\n",
              "      <td>100.30</td>\n",
              "      <td>705.6</td>\n",
              "      <td>0.10390</td>\n",
              "      <td>0.0</td>\n",
              "      <td>35</td>\n",
              "    </tr>\n",
              "    <tr>\n",
              "      <th>597</th>\n",
              "      <td>F</td>\n",
              "      <td>20</td>\n",
              "      <td>23.03</td>\n",
              "      <td>132.40</td>\n",
              "      <td>1264.0</td>\n",
              "      <td>0.09078</td>\n",
              "      <td>0.0</td>\n",
              "      <td>35</td>\n",
              "    </tr>\n",
              "    <tr>\n",
              "      <th>598</th>\n",
              "      <td>NaN</td>\n",
              "      <td>10</td>\n",
              "      <td>17.62</td>\n",
              "      <td>70.79</td>\n",
              "      <td>365.6</td>\n",
              "      <td>0.09687</td>\n",
              "      <td>1.0</td>\n",
              "      <td>51</td>\n",
              "    </tr>\n",
              "  </tbody>\n",
              "</table>\n",
              "<p>599 rows × 8 columns</p>\n",
              "</div>"
            ],
            "text/plain": [
              "    Gender  mean_radius  mean_texture  ...  mean_smoothness  diagnosis  age\n",
              "0        F           17         10.38  ...          0.11840        0.0   30\n",
              "1        F           20         17.77  ...          0.08474        0.0   31\n",
              "2        F           19         21.25  ...          0.10960        0.0   32\n",
              "3        F           11         20.38  ...          0.14250        0.0   33\n",
              "4        F           20         14.34  ...          0.10030        0.0   34\n",
              "..     ...          ...           ...  ...              ...        ...  ...\n",
              "594      F           13         14.76  ...          0.07355        1.0   53\n",
              "595      F           13         18.30  ...          0.10220        1.0   54\n",
              "596      F           15         19.83  ...          0.10390        0.0   35\n",
              "597      F           20         23.03  ...          0.09078        0.0   35\n",
              "598    NaN           10         17.62  ...          0.09687        1.0   51\n",
              "\n",
              "[599 rows x 8 columns]"
            ]
          },
          "metadata": {
            "tags": []
          },
          "execution_count": 6
        }
      ]
    },
    {
      "cell_type": "markdown",
      "metadata": {
        "id": "owYheTD6Gibh"
      },
      "source": [
        "***The above code has worked, this can be verified by comparing the datatypes of the two columns as below to previously described one.***"
      ]
    },
    {
      "cell_type": "code",
      "metadata": {
        "id": "QnotMF2-h3d2",
        "colab": {
          "base_uri": "https://localhost:8080/",
          "height": 177
        },
        "outputId": "3a8a563b-b7d1-458e-b04b-744e21b2cc4b"
      },
      "source": [
        "rawdata.dtypes"
      ],
      "execution_count": null,
      "outputs": [
        {
          "output_type": "execute_result",
          "data": {
            "text/plain": [
              "Gender              object\n",
              "mean_radius          int64\n",
              "mean_texture       float64\n",
              "mean_perimeter     float64\n",
              "mean_area          float64\n",
              "mean_smoothness    float64\n",
              "diagnosis          float64\n",
              "age                  int64\n",
              "dtype: object"
            ]
          },
          "metadata": {
            "tags": []
          },
          "execution_count": 7
        }
      ]
    },
    {
      "cell_type": "code",
      "metadata": {
        "id": "hfpIJmetk4Zu",
        "colab": {
          "base_uri": "https://localhost:8080/",
          "height": 284
        },
        "outputId": "b12fbd9d-5483-4760-ea11-06778f1642a9"
      },
      "source": [
        "# info() returns information about a DataFrame including the index dtype and columns, non-null values and memory usage\n",
        "rawdata.info()"
      ],
      "execution_count": null,
      "outputs": [
        {
          "output_type": "stream",
          "text": [
            "<class 'pandas.core.frame.DataFrame'>\n",
            "RangeIndex: 599 entries, 0 to 598\n",
            "Data columns (total 8 columns):\n",
            " #   Column           Non-Null Count  Dtype  \n",
            "---  ------           --------------  -----  \n",
            " 0   Gender           598 non-null    object \n",
            " 1   mean_radius      599 non-null    int64  \n",
            " 2   mean_texture     599 non-null    float64\n",
            " 3   mean_perimeter   599 non-null    float64\n",
            " 4   mean_area        599 non-null    float64\n",
            " 5   mean_smoothness  599 non-null    float64\n",
            " 6   diagnosis        599 non-null    float64\n",
            " 7   age              599 non-null    int64  \n",
            "dtypes: float64(5), int64(2), object(1)\n",
            "memory usage: 37.6+ KB\n"
          ],
          "name": "stdout"
        }
      ]
    },
    {
      "cell_type": "markdown",
      "metadata": {
        "id": "sYyLyVfknAzs"
      },
      "source": [
        "# **4. Apply some techniques to clean the dataset(data wrangling). Mention which technique is used and why.**"
      ]
    },
    {
      "cell_type": "markdown",
      "metadata": {
        "id": "Q2QnBliql5rr"
      },
      "source": [
        "\n",
        "\n",
        "---\n",
        "\n",
        "\n",
        "**a) Duplicate vales are redundant as the same type of conclusion is drawn multiple times, hence it makes sense to erase all duplicate rows in a dataset.**"
      ]
    },
    {
      "cell_type": "code",
      "metadata": {
        "id": "5KglPiYubgoX",
        "colab": {
          "base_uri": "https://localhost:8080/",
          "height": 399
        },
        "outputId": "9b3abfe7-b3d4-4d8b-e07c-c5d9042d655c"
      },
      "source": [
        "#drop_duplicates() returns DataFrame with duplicate rows removed\n",
        "data=rawdata.drop_duplicates()\n",
        "data"
      ],
      "execution_count": null,
      "outputs": [
        {
          "output_type": "execute_result",
          "data": {
            "text/html": [
              "<div>\n",
              "<style scoped>\n",
              "    .dataframe tbody tr th:only-of-type {\n",
              "        vertical-align: middle;\n",
              "    }\n",
              "\n",
              "    .dataframe tbody tr th {\n",
              "        vertical-align: top;\n",
              "    }\n",
              "\n",
              "    .dataframe thead th {\n",
              "        text-align: right;\n",
              "    }\n",
              "</style>\n",
              "<table border=\"1\" class=\"dataframe\">\n",
              "  <thead>\n",
              "    <tr style=\"text-align: right;\">\n",
              "      <th></th>\n",
              "      <th>Gender</th>\n",
              "      <th>mean_radius</th>\n",
              "      <th>mean_texture</th>\n",
              "      <th>mean_perimeter</th>\n",
              "      <th>mean_area</th>\n",
              "      <th>mean_smoothness</th>\n",
              "      <th>diagnosis</th>\n",
              "      <th>age</th>\n",
              "    </tr>\n",
              "  </thead>\n",
              "  <tbody>\n",
              "    <tr>\n",
              "      <th>0</th>\n",
              "      <td>F</td>\n",
              "      <td>17</td>\n",
              "      <td>10.38</td>\n",
              "      <td>122.80</td>\n",
              "      <td>1001.0</td>\n",
              "      <td>0.11840</td>\n",
              "      <td>0.0</td>\n",
              "      <td>30</td>\n",
              "    </tr>\n",
              "    <tr>\n",
              "      <th>1</th>\n",
              "      <td>F</td>\n",
              "      <td>20</td>\n",
              "      <td>17.77</td>\n",
              "      <td>132.90</td>\n",
              "      <td>1326.0</td>\n",
              "      <td>0.08474</td>\n",
              "      <td>0.0</td>\n",
              "      <td>31</td>\n",
              "    </tr>\n",
              "    <tr>\n",
              "      <th>2</th>\n",
              "      <td>F</td>\n",
              "      <td>19</td>\n",
              "      <td>21.25</td>\n",
              "      <td>130.00</td>\n",
              "      <td>1203.0</td>\n",
              "      <td>0.10960</td>\n",
              "      <td>0.0</td>\n",
              "      <td>32</td>\n",
              "    </tr>\n",
              "    <tr>\n",
              "      <th>3</th>\n",
              "      <td>F</td>\n",
              "      <td>11</td>\n",
              "      <td>20.38</td>\n",
              "      <td>77.58</td>\n",
              "      <td>386.1</td>\n",
              "      <td>0.14250</td>\n",
              "      <td>0.0</td>\n",
              "      <td>33</td>\n",
              "    </tr>\n",
              "    <tr>\n",
              "      <th>4</th>\n",
              "      <td>F</td>\n",
              "      <td>20</td>\n",
              "      <td>14.34</td>\n",
              "      <td>135.10</td>\n",
              "      <td>1297.0</td>\n",
              "      <td>0.10030</td>\n",
              "      <td>0.0</td>\n",
              "      <td>34</td>\n",
              "    </tr>\n",
              "    <tr>\n",
              "      <th>...</th>\n",
              "      <td>...</td>\n",
              "      <td>...</td>\n",
              "      <td>...</td>\n",
              "      <td>...</td>\n",
              "      <td>...</td>\n",
              "      <td>...</td>\n",
              "      <td>...</td>\n",
              "      <td>...</td>\n",
              "    </tr>\n",
              "    <tr>\n",
              "      <th>594</th>\n",
              "      <td>F</td>\n",
              "      <td>13</td>\n",
              "      <td>14.76</td>\n",
              "      <td>84.74</td>\n",
              "      <td>551.7</td>\n",
              "      <td>0.07355</td>\n",
              "      <td>1.0</td>\n",
              "      <td>53</td>\n",
              "    </tr>\n",
              "    <tr>\n",
              "      <th>595</th>\n",
              "      <td>F</td>\n",
              "      <td>13</td>\n",
              "      <td>18.30</td>\n",
              "      <td>86.60</td>\n",
              "      <td>555.1</td>\n",
              "      <td>0.10220</td>\n",
              "      <td>1.0</td>\n",
              "      <td>54</td>\n",
              "    </tr>\n",
              "    <tr>\n",
              "      <th>596</th>\n",
              "      <td>F</td>\n",
              "      <td>15</td>\n",
              "      <td>19.83</td>\n",
              "      <td>100.30</td>\n",
              "      <td>705.6</td>\n",
              "      <td>0.10390</td>\n",
              "      <td>0.0</td>\n",
              "      <td>35</td>\n",
              "    </tr>\n",
              "    <tr>\n",
              "      <th>597</th>\n",
              "      <td>F</td>\n",
              "      <td>20</td>\n",
              "      <td>23.03</td>\n",
              "      <td>132.40</td>\n",
              "      <td>1264.0</td>\n",
              "      <td>0.09078</td>\n",
              "      <td>0.0</td>\n",
              "      <td>35</td>\n",
              "    </tr>\n",
              "    <tr>\n",
              "      <th>598</th>\n",
              "      <td>NaN</td>\n",
              "      <td>10</td>\n",
              "      <td>17.62</td>\n",
              "      <td>70.79</td>\n",
              "      <td>365.6</td>\n",
              "      <td>0.09687</td>\n",
              "      <td>1.0</td>\n",
              "      <td>51</td>\n",
              "    </tr>\n",
              "  </tbody>\n",
              "</table>\n",
              "<p>599 rows × 8 columns</p>\n",
              "</div>"
            ],
            "text/plain": [
              "    Gender  mean_radius  mean_texture  ...  mean_smoothness  diagnosis  age\n",
              "0        F           17         10.38  ...          0.11840        0.0   30\n",
              "1        F           20         17.77  ...          0.08474        0.0   31\n",
              "2        F           19         21.25  ...          0.10960        0.0   32\n",
              "3        F           11         20.38  ...          0.14250        0.0   33\n",
              "4        F           20         14.34  ...          0.10030        0.0   34\n",
              "..     ...          ...           ...  ...              ...        ...  ...\n",
              "594      F           13         14.76  ...          0.07355        1.0   53\n",
              "595      F           13         18.30  ...          0.10220        1.0   54\n",
              "596      F           15         19.83  ...          0.10390        0.0   35\n",
              "597      F           20         23.03  ...          0.09078        0.0   35\n",
              "598    NaN           10         17.62  ...          0.09687        1.0   51\n",
              "\n",
              "[599 rows x 8 columns]"
            ]
          },
          "metadata": {
            "tags": []
          },
          "execution_count": 9
        }
      ]
    },
    {
      "cell_type": "markdown",
      "metadata": {
        "id": "sF8EnL7JmNhb"
      },
      "source": [
        "**b) No conclusion can be drawn from Null values and hence null values are unnecessary and should be removed.**"
      ]
    },
    {
      "cell_type": "code",
      "metadata": {
        "id": "EWhcRansbKbo",
        "colab": {
          "base_uri": "https://localhost:8080/",
          "height": 399
        },
        "outputId": "f3b4bc2a-4aba-4762-952e-c5c7d47955e6"
      },
      "source": [
        "# dropna() removes missing values\n",
        "data.dropna()"
      ],
      "execution_count": null,
      "outputs": [
        {
          "output_type": "execute_result",
          "data": {
            "text/html": [
              "<div>\n",
              "<style scoped>\n",
              "    .dataframe tbody tr th:only-of-type {\n",
              "        vertical-align: middle;\n",
              "    }\n",
              "\n",
              "    .dataframe tbody tr th {\n",
              "        vertical-align: top;\n",
              "    }\n",
              "\n",
              "    .dataframe thead th {\n",
              "        text-align: right;\n",
              "    }\n",
              "</style>\n",
              "<table border=\"1\" class=\"dataframe\">\n",
              "  <thead>\n",
              "    <tr style=\"text-align: right;\">\n",
              "      <th></th>\n",
              "      <th>Gender</th>\n",
              "      <th>mean_radius</th>\n",
              "      <th>mean_texture</th>\n",
              "      <th>mean_perimeter</th>\n",
              "      <th>mean_area</th>\n",
              "      <th>mean_smoothness</th>\n",
              "      <th>diagnosis</th>\n",
              "      <th>age</th>\n",
              "    </tr>\n",
              "  </thead>\n",
              "  <tbody>\n",
              "    <tr>\n",
              "      <th>0</th>\n",
              "      <td>F</td>\n",
              "      <td>17</td>\n",
              "      <td>10.38</td>\n",
              "      <td>122.80</td>\n",
              "      <td>1001.0</td>\n",
              "      <td>0.11840</td>\n",
              "      <td>0.0</td>\n",
              "      <td>30</td>\n",
              "    </tr>\n",
              "    <tr>\n",
              "      <th>1</th>\n",
              "      <td>F</td>\n",
              "      <td>20</td>\n",
              "      <td>17.77</td>\n",
              "      <td>132.90</td>\n",
              "      <td>1326.0</td>\n",
              "      <td>0.08474</td>\n",
              "      <td>0.0</td>\n",
              "      <td>31</td>\n",
              "    </tr>\n",
              "    <tr>\n",
              "      <th>2</th>\n",
              "      <td>F</td>\n",
              "      <td>19</td>\n",
              "      <td>21.25</td>\n",
              "      <td>130.00</td>\n",
              "      <td>1203.0</td>\n",
              "      <td>0.10960</td>\n",
              "      <td>0.0</td>\n",
              "      <td>32</td>\n",
              "    </tr>\n",
              "    <tr>\n",
              "      <th>3</th>\n",
              "      <td>F</td>\n",
              "      <td>11</td>\n",
              "      <td>20.38</td>\n",
              "      <td>77.58</td>\n",
              "      <td>386.1</td>\n",
              "      <td>0.14250</td>\n",
              "      <td>0.0</td>\n",
              "      <td>33</td>\n",
              "    </tr>\n",
              "    <tr>\n",
              "      <th>4</th>\n",
              "      <td>F</td>\n",
              "      <td>20</td>\n",
              "      <td>14.34</td>\n",
              "      <td>135.10</td>\n",
              "      <td>1297.0</td>\n",
              "      <td>0.10030</td>\n",
              "      <td>0.0</td>\n",
              "      <td>34</td>\n",
              "    </tr>\n",
              "    <tr>\n",
              "      <th>...</th>\n",
              "      <td>...</td>\n",
              "      <td>...</td>\n",
              "      <td>...</td>\n",
              "      <td>...</td>\n",
              "      <td>...</td>\n",
              "      <td>...</td>\n",
              "      <td>...</td>\n",
              "      <td>...</td>\n",
              "    </tr>\n",
              "    <tr>\n",
              "      <th>593</th>\n",
              "      <td>F</td>\n",
              "      <td>15</td>\n",
              "      <td>22.76</td>\n",
              "      <td>100.20</td>\n",
              "      <td>728.2</td>\n",
              "      <td>0.09200</td>\n",
              "      <td>0.0</td>\n",
              "      <td>52</td>\n",
              "    </tr>\n",
              "    <tr>\n",
              "      <th>594</th>\n",
              "      <td>F</td>\n",
              "      <td>13</td>\n",
              "      <td>14.76</td>\n",
              "      <td>84.74</td>\n",
              "      <td>551.7</td>\n",
              "      <td>0.07355</td>\n",
              "      <td>1.0</td>\n",
              "      <td>53</td>\n",
              "    </tr>\n",
              "    <tr>\n",
              "      <th>595</th>\n",
              "      <td>F</td>\n",
              "      <td>13</td>\n",
              "      <td>18.30</td>\n",
              "      <td>86.60</td>\n",
              "      <td>555.1</td>\n",
              "      <td>0.10220</td>\n",
              "      <td>1.0</td>\n",
              "      <td>54</td>\n",
              "    </tr>\n",
              "    <tr>\n",
              "      <th>596</th>\n",
              "      <td>F</td>\n",
              "      <td>15</td>\n",
              "      <td>19.83</td>\n",
              "      <td>100.30</td>\n",
              "      <td>705.6</td>\n",
              "      <td>0.10390</td>\n",
              "      <td>0.0</td>\n",
              "      <td>35</td>\n",
              "    </tr>\n",
              "    <tr>\n",
              "      <th>597</th>\n",
              "      <td>F</td>\n",
              "      <td>20</td>\n",
              "      <td>23.03</td>\n",
              "      <td>132.40</td>\n",
              "      <td>1264.0</td>\n",
              "      <td>0.09078</td>\n",
              "      <td>0.0</td>\n",
              "      <td>35</td>\n",
              "    </tr>\n",
              "  </tbody>\n",
              "</table>\n",
              "<p>598 rows × 8 columns</p>\n",
              "</div>"
            ],
            "text/plain": [
              "    Gender  mean_radius  mean_texture  ...  mean_smoothness  diagnosis  age\n",
              "0        F           17         10.38  ...          0.11840        0.0   30\n",
              "1        F           20         17.77  ...          0.08474        0.0   31\n",
              "2        F           19         21.25  ...          0.10960        0.0   32\n",
              "3        F           11         20.38  ...          0.14250        0.0   33\n",
              "4        F           20         14.34  ...          0.10030        0.0   34\n",
              "..     ...          ...           ...  ...              ...        ...  ...\n",
              "593      F           15         22.76  ...          0.09200        0.0   52\n",
              "594      F           13         14.76  ...          0.07355        1.0   53\n",
              "595      F           13         18.30  ...          0.10220        1.0   54\n",
              "596      F           15         19.83  ...          0.10390        0.0   35\n",
              "597      F           20         23.03  ...          0.09078        0.0   35\n",
              "\n",
              "[598 rows x 8 columns]"
            ]
          },
          "metadata": {
            "tags": []
          },
          "execution_count": 10
        }
      ]
    },
    {
      "cell_type": "markdown",
      "metadata": {
        "id": "s-vwwYnwmj4J"
      },
      "source": [
        "***There were no rows with null values in the dataset so no rows were dropped from the dataset.***\n"
      ]
    },
    {
      "cell_type": "markdown",
      "metadata": {
        "id": "9j7LEdD0nWca"
      },
      "source": [
        "**c) Columns that don't specify any significant information for the analysis of in a aparticular direction can be dropped**\n",
        "\n"
      ]
    },
    {
      "cell_type": "code",
      "metadata": {
        "id": "T-ZQlUosiBXl",
        "colab": {
          "base_uri": "https://localhost:8080/",
          "height": 399
        },
        "outputId": "995062bd-024e-4b14-8333-fe8ae14fd668"
      },
      "source": [
        "# If inplace= False, it returns a copy otherwise, does operation inplace and returns nothing\n",
        "# axis=0 refers to rows, axis=1 refers to columns\n",
        "to_drop=['Gender']\n",
        "data.drop(to_drop, inplace=True, axis = 1)\n",
        "data"
      ],
      "execution_count": null,
      "outputs": [
        {
          "output_type": "execute_result",
          "data": {
            "text/html": [
              "<div>\n",
              "<style scoped>\n",
              "    .dataframe tbody tr th:only-of-type {\n",
              "        vertical-align: middle;\n",
              "    }\n",
              "\n",
              "    .dataframe tbody tr th {\n",
              "        vertical-align: top;\n",
              "    }\n",
              "\n",
              "    .dataframe thead th {\n",
              "        text-align: right;\n",
              "    }\n",
              "</style>\n",
              "<table border=\"1\" class=\"dataframe\">\n",
              "  <thead>\n",
              "    <tr style=\"text-align: right;\">\n",
              "      <th></th>\n",
              "      <th>mean_radius</th>\n",
              "      <th>mean_texture</th>\n",
              "      <th>mean_perimeter</th>\n",
              "      <th>mean_area</th>\n",
              "      <th>mean_smoothness</th>\n",
              "      <th>diagnosis</th>\n",
              "      <th>age</th>\n",
              "    </tr>\n",
              "  </thead>\n",
              "  <tbody>\n",
              "    <tr>\n",
              "      <th>0</th>\n",
              "      <td>17</td>\n",
              "      <td>10.38</td>\n",
              "      <td>122.80</td>\n",
              "      <td>1001.0</td>\n",
              "      <td>0.11840</td>\n",
              "      <td>0.0</td>\n",
              "      <td>30</td>\n",
              "    </tr>\n",
              "    <tr>\n",
              "      <th>1</th>\n",
              "      <td>20</td>\n",
              "      <td>17.77</td>\n",
              "      <td>132.90</td>\n",
              "      <td>1326.0</td>\n",
              "      <td>0.08474</td>\n",
              "      <td>0.0</td>\n",
              "      <td>31</td>\n",
              "    </tr>\n",
              "    <tr>\n",
              "      <th>2</th>\n",
              "      <td>19</td>\n",
              "      <td>21.25</td>\n",
              "      <td>130.00</td>\n",
              "      <td>1203.0</td>\n",
              "      <td>0.10960</td>\n",
              "      <td>0.0</td>\n",
              "      <td>32</td>\n",
              "    </tr>\n",
              "    <tr>\n",
              "      <th>3</th>\n",
              "      <td>11</td>\n",
              "      <td>20.38</td>\n",
              "      <td>77.58</td>\n",
              "      <td>386.1</td>\n",
              "      <td>0.14250</td>\n",
              "      <td>0.0</td>\n",
              "      <td>33</td>\n",
              "    </tr>\n",
              "    <tr>\n",
              "      <th>4</th>\n",
              "      <td>20</td>\n",
              "      <td>14.34</td>\n",
              "      <td>135.10</td>\n",
              "      <td>1297.0</td>\n",
              "      <td>0.10030</td>\n",
              "      <td>0.0</td>\n",
              "      <td>34</td>\n",
              "    </tr>\n",
              "    <tr>\n",
              "      <th>...</th>\n",
              "      <td>...</td>\n",
              "      <td>...</td>\n",
              "      <td>...</td>\n",
              "      <td>...</td>\n",
              "      <td>...</td>\n",
              "      <td>...</td>\n",
              "      <td>...</td>\n",
              "    </tr>\n",
              "    <tr>\n",
              "      <th>594</th>\n",
              "      <td>13</td>\n",
              "      <td>14.76</td>\n",
              "      <td>84.74</td>\n",
              "      <td>551.7</td>\n",
              "      <td>0.07355</td>\n",
              "      <td>1.0</td>\n",
              "      <td>53</td>\n",
              "    </tr>\n",
              "    <tr>\n",
              "      <th>595</th>\n",
              "      <td>13</td>\n",
              "      <td>18.30</td>\n",
              "      <td>86.60</td>\n",
              "      <td>555.1</td>\n",
              "      <td>0.10220</td>\n",
              "      <td>1.0</td>\n",
              "      <td>54</td>\n",
              "    </tr>\n",
              "    <tr>\n",
              "      <th>596</th>\n",
              "      <td>15</td>\n",
              "      <td>19.83</td>\n",
              "      <td>100.30</td>\n",
              "      <td>705.6</td>\n",
              "      <td>0.10390</td>\n",
              "      <td>0.0</td>\n",
              "      <td>35</td>\n",
              "    </tr>\n",
              "    <tr>\n",
              "      <th>597</th>\n",
              "      <td>20</td>\n",
              "      <td>23.03</td>\n",
              "      <td>132.40</td>\n",
              "      <td>1264.0</td>\n",
              "      <td>0.09078</td>\n",
              "      <td>0.0</td>\n",
              "      <td>35</td>\n",
              "    </tr>\n",
              "    <tr>\n",
              "      <th>598</th>\n",
              "      <td>10</td>\n",
              "      <td>17.62</td>\n",
              "      <td>70.79</td>\n",
              "      <td>365.6</td>\n",
              "      <td>0.09687</td>\n",
              "      <td>1.0</td>\n",
              "      <td>51</td>\n",
              "    </tr>\n",
              "  </tbody>\n",
              "</table>\n",
              "<p>599 rows × 7 columns</p>\n",
              "</div>"
            ],
            "text/plain": [
              "     mean_radius  mean_texture  mean_perimeter  ...  mean_smoothness  diagnosis  age\n",
              "0             17         10.38          122.80  ...          0.11840        0.0   30\n",
              "1             20         17.77          132.90  ...          0.08474        0.0   31\n",
              "2             19         21.25          130.00  ...          0.10960        0.0   32\n",
              "3             11         20.38           77.58  ...          0.14250        0.0   33\n",
              "4             20         14.34          135.10  ...          0.10030        0.0   34\n",
              "..           ...           ...             ...  ...              ...        ...  ...\n",
              "594           13         14.76           84.74  ...          0.07355        1.0   53\n",
              "595           13         18.30           86.60  ...          0.10220        1.0   54\n",
              "596           15         19.83          100.30  ...          0.10390        0.0   35\n",
              "597           20         23.03          132.40  ...          0.09078        0.0   35\n",
              "598           10         17.62           70.79  ...          0.09687        1.0   51\n",
              "\n",
              "[599 rows x 7 columns]"
            ]
          },
          "metadata": {
            "tags": []
          },
          "execution_count": 11
        }
      ]
    },
    {
      "cell_type": "code",
      "metadata": {
        "id": "nDifobGjTYGB",
        "colab": {
          "base_uri": "https://localhost:8080/",
          "height": 399
        },
        "outputId": "69e57985-9803-4eb3-c088-ef1e95c5bf82"
      },
      "source": [
        "data"
      ],
      "execution_count": null,
      "outputs": [
        {
          "output_type": "execute_result",
          "data": {
            "text/html": [
              "<div>\n",
              "<style scoped>\n",
              "    .dataframe tbody tr th:only-of-type {\n",
              "        vertical-align: middle;\n",
              "    }\n",
              "\n",
              "    .dataframe tbody tr th {\n",
              "        vertical-align: top;\n",
              "    }\n",
              "\n",
              "    .dataframe thead th {\n",
              "        text-align: right;\n",
              "    }\n",
              "</style>\n",
              "<table border=\"1\" class=\"dataframe\">\n",
              "  <thead>\n",
              "    <tr style=\"text-align: right;\">\n",
              "      <th></th>\n",
              "      <th>mean_radius</th>\n",
              "      <th>mean_texture</th>\n",
              "      <th>mean_perimeter</th>\n",
              "      <th>mean_area</th>\n",
              "      <th>mean_smoothness</th>\n",
              "      <th>diagnosis</th>\n",
              "      <th>age</th>\n",
              "    </tr>\n",
              "  </thead>\n",
              "  <tbody>\n",
              "    <tr>\n",
              "      <th>0</th>\n",
              "      <td>17</td>\n",
              "      <td>10.38</td>\n",
              "      <td>122.80</td>\n",
              "      <td>1001.0</td>\n",
              "      <td>0.11840</td>\n",
              "      <td>0.0</td>\n",
              "      <td>30</td>\n",
              "    </tr>\n",
              "    <tr>\n",
              "      <th>1</th>\n",
              "      <td>20</td>\n",
              "      <td>17.77</td>\n",
              "      <td>132.90</td>\n",
              "      <td>1326.0</td>\n",
              "      <td>0.08474</td>\n",
              "      <td>0.0</td>\n",
              "      <td>31</td>\n",
              "    </tr>\n",
              "    <tr>\n",
              "      <th>2</th>\n",
              "      <td>19</td>\n",
              "      <td>21.25</td>\n",
              "      <td>130.00</td>\n",
              "      <td>1203.0</td>\n",
              "      <td>0.10960</td>\n",
              "      <td>0.0</td>\n",
              "      <td>32</td>\n",
              "    </tr>\n",
              "    <tr>\n",
              "      <th>3</th>\n",
              "      <td>11</td>\n",
              "      <td>20.38</td>\n",
              "      <td>77.58</td>\n",
              "      <td>386.1</td>\n",
              "      <td>0.14250</td>\n",
              "      <td>0.0</td>\n",
              "      <td>33</td>\n",
              "    </tr>\n",
              "    <tr>\n",
              "      <th>4</th>\n",
              "      <td>20</td>\n",
              "      <td>14.34</td>\n",
              "      <td>135.10</td>\n",
              "      <td>1297.0</td>\n",
              "      <td>0.10030</td>\n",
              "      <td>0.0</td>\n",
              "      <td>34</td>\n",
              "    </tr>\n",
              "    <tr>\n",
              "      <th>...</th>\n",
              "      <td>...</td>\n",
              "      <td>...</td>\n",
              "      <td>...</td>\n",
              "      <td>...</td>\n",
              "      <td>...</td>\n",
              "      <td>...</td>\n",
              "      <td>...</td>\n",
              "    </tr>\n",
              "    <tr>\n",
              "      <th>594</th>\n",
              "      <td>13</td>\n",
              "      <td>14.76</td>\n",
              "      <td>84.74</td>\n",
              "      <td>551.7</td>\n",
              "      <td>0.07355</td>\n",
              "      <td>1.0</td>\n",
              "      <td>53</td>\n",
              "    </tr>\n",
              "    <tr>\n",
              "      <th>595</th>\n",
              "      <td>13</td>\n",
              "      <td>18.30</td>\n",
              "      <td>86.60</td>\n",
              "      <td>555.1</td>\n",
              "      <td>0.10220</td>\n",
              "      <td>1.0</td>\n",
              "      <td>54</td>\n",
              "    </tr>\n",
              "    <tr>\n",
              "      <th>596</th>\n",
              "      <td>15</td>\n",
              "      <td>19.83</td>\n",
              "      <td>100.30</td>\n",
              "      <td>705.6</td>\n",
              "      <td>0.10390</td>\n",
              "      <td>0.0</td>\n",
              "      <td>35</td>\n",
              "    </tr>\n",
              "    <tr>\n",
              "      <th>597</th>\n",
              "      <td>20</td>\n",
              "      <td>23.03</td>\n",
              "      <td>132.40</td>\n",
              "      <td>1264.0</td>\n",
              "      <td>0.09078</td>\n",
              "      <td>0.0</td>\n",
              "      <td>35</td>\n",
              "    </tr>\n",
              "    <tr>\n",
              "      <th>598</th>\n",
              "      <td>10</td>\n",
              "      <td>17.62</td>\n",
              "      <td>70.79</td>\n",
              "      <td>365.6</td>\n",
              "      <td>0.09687</td>\n",
              "      <td>1.0</td>\n",
              "      <td>51</td>\n",
              "    </tr>\n",
              "  </tbody>\n",
              "</table>\n",
              "<p>599 rows × 7 columns</p>\n",
              "</div>"
            ],
            "text/plain": [
              "     mean_radius  mean_texture  mean_perimeter  ...  mean_smoothness  diagnosis  age\n",
              "0             17         10.38          122.80  ...          0.11840        0.0   30\n",
              "1             20         17.77          132.90  ...          0.08474        0.0   31\n",
              "2             19         21.25          130.00  ...          0.10960        0.0   32\n",
              "3             11         20.38           77.58  ...          0.14250        0.0   33\n",
              "4             20         14.34          135.10  ...          0.10030        0.0   34\n",
              "..           ...           ...             ...  ...              ...        ...  ...\n",
              "594           13         14.76           84.74  ...          0.07355        1.0   53\n",
              "595           13         18.30           86.60  ...          0.10220        1.0   54\n",
              "596           15         19.83          100.30  ...          0.10390        0.0   35\n",
              "597           20         23.03          132.40  ...          0.09078        0.0   35\n",
              "598           10         17.62           70.79  ...          0.09687        1.0   51\n",
              "\n",
              "[599 rows x 7 columns]"
            ]
          },
          "metadata": {
            "tags": []
          },
          "execution_count": 12
        }
      ]
    },
    {
      "cell_type": "markdown",
      "metadata": {
        "id": "K2kwPHZiWBJg"
      },
      "source": [
        "# **5. Use a data visualisation technique to visualise data for extracting meaningful information**\n",
        "\n",
        "\n",
        "\n",
        "---\n",
        "\n",
        "\n",
        "***Seaborn is a Python data visualization library based on matplotlib. It provides a high-level interface for drawing attractive and informative statistical graphics.***\n",
        "\n",
        "***A box plot (or box-and-whisker plot) shows the distribution of quantitative data in a way that facilitates comparisons between variables or across levels of a categorical variable.***"
      ]
    },
    {
      "cell_type": "code",
      "metadata": {
        "id": "LONxdU8QTYIV",
        "colab": {
          "base_uri": "https://localhost:8080/",
          "height": 335
        },
        "outputId": "1ea6600a-234b-4851-b504-1cd8f3383340"
      },
      "source": [
        "import seaborn as sns\n",
        "from matplotlib import pyplot as plt\n",
        "# Distributions of observations within class\n",
        "sns.boxplot( y=data[\"age\"], x=data[\"diagnosis\"] );\n",
        "# Diagnosis=0 means diagnosed Breast Cancer negative and Daignsosis=1 means diagnosed positive\n",
        "plt.show()"
      ],
      "execution_count": null,
      "outputs": [
        {
          "output_type": "stream",
          "text": [
            "/usr/local/lib/python3.6/dist-packages/statsmodels/tools/_testing.py:19: FutureWarning: pandas.util.testing is deprecated. Use the functions in the public API at pandas.testing instead.\n",
            "  import pandas.util.testing as tm\n"
          ],
          "name": "stderr"
        },
        {
          "output_type": "display_data",
          "data": {
            "image/png": "[encoded data removed]",
            "text/plain": [
              "<Figure size 432x288 with 1 Axes>"
            ]
          },
          "metadata": {
            "tags": [],
            "needs_background": "light"
          }
        }
      ]
    },
    {
      "cell_type": "code",
      "metadata": {
        "id": "2TqQaO7XTYM2",
        "colab": {
          "base_uri": "https://localhost:8080/",
          "height": 399
        },
        "outputId": "69675e21-e49f-4274-eecc-7061283e96ff"
      },
      "source": [
        "# loc is used to access a group of rows and columns by label(s) or a boolean array\n",
        "yesdiag=data.loc[data['diagnosis']==1]\n",
        "# head() is used to return the first 'n' rows\n",
        "yesdiag"
      ],
      "execution_count": null,
      "outputs": [
        {
          "output_type": "execute_result",
          "data": {
            "text/html": [
              "<div>\n",
              "<style scoped>\n",
              "    .dataframe tbody tr th:only-of-type {\n",
              "        vertical-align: middle;\n",
              "    }\n",
              "\n",
              "    .dataframe tbody tr th {\n",
              "        vertical-align: top;\n",
              "    }\n",
              "\n",
              "    .dataframe thead th {\n",
              "        text-align: right;\n",
              "    }\n",
              "</style>\n",
              "<table border=\"1\" class=\"dataframe\">\n",
              "  <thead>\n",
              "    <tr style=\"text-align: right;\">\n",
              "      <th></th>\n",
              "      <th>mean_radius</th>\n",
              "      <th>mean_texture</th>\n",
              "      <th>mean_perimeter</th>\n",
              "      <th>mean_area</th>\n",
              "      <th>mean_smoothness</th>\n",
              "      <th>diagnosis</th>\n",
              "      <th>age</th>\n",
              "    </tr>\n",
              "  </thead>\n",
              "  <tbody>\n",
              "    <tr>\n",
              "      <th>19</th>\n",
              "      <td>13</td>\n",
              "      <td>14.36</td>\n",
              "      <td>87.46</td>\n",
              "      <td>566.3</td>\n",
              "      <td>0.09779</td>\n",
              "      <td>1.0</td>\n",
              "      <td>40</td>\n",
              "    </tr>\n",
              "    <tr>\n",
              "      <th>20</th>\n",
              "      <td>13</td>\n",
              "      <td>15.71</td>\n",
              "      <td>85.63</td>\n",
              "      <td>520.0</td>\n",
              "      <td>0.10750</td>\n",
              "      <td>1.0</td>\n",
              "      <td>45</td>\n",
              "    </tr>\n",
              "    <tr>\n",
              "      <th>21</th>\n",
              "      <td>9</td>\n",
              "      <td>12.44</td>\n",
              "      <td>60.34</td>\n",
              "      <td>273.9</td>\n",
              "      <td>0.10240</td>\n",
              "      <td>1.0</td>\n",
              "      <td>50</td>\n",
              "    </tr>\n",
              "    <tr>\n",
              "      <th>37</th>\n",
              "      <td>13</td>\n",
              "      <td>18.42</td>\n",
              "      <td>82.61</td>\n",
              "      <td>523.8</td>\n",
              "      <td>0.08983</td>\n",
              "      <td>1.0</td>\n",
              "      <td>36</td>\n",
              "    </tr>\n",
              "    <tr>\n",
              "      <th>46</th>\n",
              "      <td>8</td>\n",
              "      <td>16.84</td>\n",
              "      <td>51.71</td>\n",
              "      <td>201.9</td>\n",
              "      <td>0.08600</td>\n",
              "      <td>1.0</td>\n",
              "      <td>44</td>\n",
              "    </tr>\n",
              "    <tr>\n",
              "      <th>...</th>\n",
              "      <td>...</td>\n",
              "      <td>...</td>\n",
              "      <td>...</td>\n",
              "      <td>...</td>\n",
              "      <td>...</td>\n",
              "      <td>...</td>\n",
              "      <td>...</td>\n",
              "    </tr>\n",
              "    <tr>\n",
              "      <th>591</th>\n",
              "      <td>14</td>\n",
              "      <td>15.24</td>\n",
              "      <td>95.77</td>\n",
              "      <td>651.9</td>\n",
              "      <td>0.11320</td>\n",
              "      <td>1.0</td>\n",
              "      <td>50</td>\n",
              "    </tr>\n",
              "    <tr>\n",
              "      <th>592</th>\n",
              "      <td>14</td>\n",
              "      <td>24.02</td>\n",
              "      <td>94.57</td>\n",
              "      <td>662.7</td>\n",
              "      <td>0.08974</td>\n",
              "      <td>1.0</td>\n",
              "      <td>51</td>\n",
              "    </tr>\n",
              "    <tr>\n",
              "      <th>594</th>\n",
              "      <td>13</td>\n",
              "      <td>14.76</td>\n",
              "      <td>84.74</td>\n",
              "      <td>551.7</td>\n",
              "      <td>0.07355</td>\n",
              "      <td>1.0</td>\n",
              "      <td>53</td>\n",
              "    </tr>\n",
              "    <tr>\n",
              "      <th>595</th>\n",
              "      <td>13</td>\n",
              "      <td>18.30</td>\n",
              "      <td>86.60</td>\n",
              "      <td>555.1</td>\n",
              "      <td>0.10220</td>\n",
              "      <td>1.0</td>\n",
              "      <td>54</td>\n",
              "    </tr>\n",
              "    <tr>\n",
              "      <th>598</th>\n",
              "      <td>10</td>\n",
              "      <td>17.62</td>\n",
              "      <td>70.79</td>\n",
              "      <td>365.6</td>\n",
              "      <td>0.09687</td>\n",
              "      <td>1.0</td>\n",
              "      <td>51</td>\n",
              "    </tr>\n",
              "  </tbody>\n",
              "</table>\n",
              "<p>374 rows × 7 columns</p>\n",
              "</div>"
            ],
            "text/plain": [
              "     mean_radius  mean_texture  mean_perimeter  ...  mean_smoothness  diagnosis  age\n",
              "19            13         14.36           87.46  ...          0.09779        1.0   40\n",
              "20            13         15.71           85.63  ...          0.10750        1.0   45\n",
              "21             9         12.44           60.34  ...          0.10240        1.0   50\n",
              "37            13         18.42           82.61  ...          0.08983        1.0   36\n",
              "46             8         16.84           51.71  ...          0.08600        1.0   44\n",
              "..           ...           ...             ...  ...              ...        ...  ...\n",
              "591           14         15.24           95.77  ...          0.11320        1.0   50\n",
              "592           14         24.02           94.57  ...          0.08974        1.0   51\n",
              "594           13         14.76           84.74  ...          0.07355        1.0   53\n",
              "595           13         18.30           86.60  ...          0.10220        1.0   54\n",
              "598           10         17.62           70.79  ...          0.09687        1.0   51\n",
              "\n",
              "[374 rows x 7 columns]"
            ]
          },
          "metadata": {
            "tags": []
          },
          "execution_count": 14
        }
      ]
    },
    {
      "cell_type": "code",
      "metadata": {
        "id": "W1WBIoykTYPb",
        "colab": {
          "base_uri": "https://localhost:8080/",
          "height": 297
        },
        "outputId": "fc398924-c9a4-4f30-e1e5-47eb76a41b99"
      },
      "source": [
        "# distplot() is used to flexibly plot a univariate distribution of observations\n",
        "sns.distplot(yesdiag.age)"
      ],
      "execution_count": null,
      "outputs": [
        {
          "output_type": "execute_result",
          "data": {
            "text/plain": [
              "<matplotlib.axes._subplots.AxesSubplot at 0x7f82e4636c88>"
            ]
          },
          "metadata": {
            "tags": []
          },
          "execution_count": 15
        },
        {
          "output_type": "display_data",
          "data": {
            "image/png": "[encoded data removed]",
            "text/plain": [
              "<Figure size 432x288 with 1 Axes>"
            ]
          },
          "metadata": {
            "tags": [],
            "needs_background": "light"
          }
        }
      ]
    },
    {
      "cell_type": "code",
      "metadata": {
        "id": "rt_cybfZ91p_",
        "colab": {
          "base_uri": "https://localhost:8080/",
          "height": 194
        },
        "outputId": "db2dda78-faf9-4b73-c6a3-c6086f45578e"
      },
      "source": [
        "nodiag=data.loc[data['diagnosis']==0]\n",
        "nodiag.head()"
      ],
      "execution_count": null,
      "outputs": [
        {
          "output_type": "execute_result",
          "data": {
            "text/html": [
              "<div>\n",
              "<style scoped>\n",
              "    .dataframe tbody tr th:only-of-type {\n",
              "        vertical-align: middle;\n",
              "    }\n",
              "\n",
              "    .dataframe tbody tr th {\n",
              "        vertical-align: top;\n",
              "    }\n",
              "\n",
              "    .dataframe thead th {\n",
              "        text-align: right;\n",
              "    }\n",
              "</style>\n",
              "<table border=\"1\" class=\"dataframe\">\n",
              "  <thead>\n",
              "    <tr style=\"text-align: right;\">\n",
              "      <th></th>\n",
              "      <th>mean_radius</th>\n",
              "      <th>mean_texture</th>\n",
              "      <th>mean_perimeter</th>\n",
              "      <th>mean_area</th>\n",
              "      <th>mean_smoothness</th>\n",
              "      <th>diagnosis</th>\n",
              "      <th>age</th>\n",
              "    </tr>\n",
              "  </thead>\n",
              "  <tbody>\n",
              "    <tr>\n",
              "      <th>0</th>\n",
              "      <td>17</td>\n",
              "      <td>10.38</td>\n",
              "      <td>122.80</td>\n",
              "      <td>1001.0</td>\n",
              "      <td>0.11840</td>\n",
              "      <td>0.0</td>\n",
              "      <td>30</td>\n",
              "    </tr>\n",
              "    <tr>\n",
              "      <th>1</th>\n",
              "      <td>20</td>\n",
              "      <td>17.77</td>\n",
              "      <td>132.90</td>\n",
              "      <td>1326.0</td>\n",
              "      <td>0.08474</td>\n",
              "      <td>0.0</td>\n",
              "      <td>31</td>\n",
              "    </tr>\n",
              "    <tr>\n",
              "      <th>2</th>\n",
              "      <td>19</td>\n",
              "      <td>21.25</td>\n",
              "      <td>130.00</td>\n",
              "      <td>1203.0</td>\n",
              "      <td>0.10960</td>\n",
              "      <td>0.0</td>\n",
              "      <td>32</td>\n",
              "    </tr>\n",
              "    <tr>\n",
              "      <th>3</th>\n",
              "      <td>11</td>\n",
              "      <td>20.38</td>\n",
              "      <td>77.58</td>\n",
              "      <td>386.1</td>\n",
              "      <td>0.14250</td>\n",
              "      <td>0.0</td>\n",
              "      <td>33</td>\n",
              "    </tr>\n",
              "    <tr>\n",
              "      <th>4</th>\n",
              "      <td>20</td>\n",
              "      <td>14.34</td>\n",
              "      <td>135.10</td>\n",
              "      <td>1297.0</td>\n",
              "      <td>0.10030</td>\n",
              "      <td>0.0</td>\n",
              "      <td>34</td>\n",
              "    </tr>\n",
              "  </tbody>\n",
              "</table>\n",
              "</div>"
            ],
            "text/plain": [
              "   mean_radius  mean_texture  mean_perimeter  ...  mean_smoothness  diagnosis  age\n",
              "0           17         10.38          122.80  ...          0.11840        0.0   30\n",
              "1           20         17.77          132.90  ...          0.08474        0.0   31\n",
              "2           19         21.25          130.00  ...          0.10960        0.0   32\n",
              "3           11         20.38           77.58  ...          0.14250        0.0   33\n",
              "4           20         14.34          135.10  ...          0.10030        0.0   34\n",
              "\n",
              "[5 rows x 7 columns]"
            ]
          },
          "metadata": {
            "tags": []
          },
          "execution_count": 16
        }
      ]
    },
    {
      "cell_type": "code",
      "metadata": {
        "id": "_gF78HTV-Jqk",
        "colab": {
          "base_uri": "https://localhost:8080/",
          "height": 297
        },
        "outputId": "b03ddf24-0c74-4b25-e71f-b7445ebdd2b7"
      },
      "source": [
        "sns.distplot(nodiag.age)"
      ],
      "execution_count": null,
      "outputs": [
        {
          "output_type": "execute_result",
          "data": {
            "text/plain": [
              "<matplotlib.axes._subplots.AxesSubplot at 0x7f82e455a0f0>"
            ]
          },
          "metadata": {
            "tags": []
          },
          "execution_count": 17
        },
        {
          "output_type": "display_data",
          "data": {
            "image/png": "[encoded data removed]",
            "text/plain": [
              "<Figure size 432x288 with 1 Axes>"
            ]
          },
          "metadata": {
            "tags": [],
            "needs_background": "light"
          }
        }
      ]
    },
    {
      "cell_type": "markdown",
      "metadata": {
        "id": "UpvrwdJGPjKY"
      },
      "source": [
        "#**Conclusions drawn from the visualisation:**\n",
        "\n",
        "\n",
        "\n",
        "---\n",
        "\n",
        "\n",
        "\n",
        "**1.   Females can be diagnosed with Breast Cancer at any age, however according to the dataset maximum women that tested positive were in their late 40s and early 50s.**\n",
        "\n",
        "**2.   Women starting from the age of 20 to late 50s show symptoms of breast cancer but are very less likely to test positive. It is more common among women older than 40 to suffer from it, but there are exceptions, young women may also test positive when the symptoms are severe otherwise young women do not show prominent symptoms. Reasons could be genetic mutations or hereditary issues.**\n"
      ]
    },
    {
      "cell_type": "markdown",
      "metadata": {
        "id": "WgiacmiZPkCY"
      },
      "source": [
        "\n",
        "\n",
        "\n",
        "---\n",
        "\n"
      ]
    }
  ]
}